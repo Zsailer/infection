{
 "cells": [
  {
   "cell_type": "markdown",
   "metadata": {},
   "source": [
    "# Infection Game package tutorial\n",
    "\n",
    "This package simulates game made by Andrea Loes, that demonstrates to middle school students the spread and mapping of infections. \n",
    "\n",
    "To begin, we need to add a list of people to play the game. In the `utils` module, we can import a random name generator. "
   ]
  },
  {
   "cell_type": "code",
   "execution_count": 1,
   "metadata": {
    "collapsed": false
   },
   "outputs": [],
   "source": [
    "from infection.utils import random_names"
   ]
  },
  {
   "cell_type": "markdown",
   "metadata": {},
   "source": [
    "We can create a list of names using the above method and passing in a number of names to return."
   ]
  },
  {
   "cell_type": "code",
   "execution_count": 2,
   "metadata": {
    "collapsed": false
   },
   "outputs": [
    {
     "name": "stdout",
     "output_type": "stream",
     "text": [
      "['James', 'Shannon', 'Rachel', 'Ann', 'Margaret', 'Ashley', 'Glen', 'Sarah', 'Christa', 'Mary', 'Mariam', 'Renee', 'Martha', 'Annie', 'Lucille', 'Jennifer', 'Richard', 'Melvin', 'Nora', 'Mabel']\n"
     ]
    }
   ],
   "source": [
    "names = random_names(20)\n",
    "print(names)"
   ]
  },
  {
   "cell_type": "markdown",
   "metadata": {},
   "source": [
    "Now, we'll import the game"
   ]
  },
  {
   "cell_type": "code",
   "execution_count": 3,
   "metadata": {
    "collapsed": true
   },
   "outputs": [],
   "source": [
    "from infection.infection import InfectionGame"
   ]
  },
  {
   "cell_type": "markdown",
   "metadata": {},
   "source": [
    "Let's create an instance of the game, passing in the names and number of round for infection spreading."
   ]
  },
  {
   "cell_type": "code",
   "execution_count": 4,
   "metadata": {
    "collapsed": false
   },
   "outputs": [
    {
     "name": "stdout",
     "output_type": "stream",
     "text": [
      "['James', 'Shannon', 'Rachel', 'Ann', 'Margaret', 'Ashley', 'Glen', 'Sarah', 'Christa', 'Mary', 'Mariam', 'Renee', 'Martha', 'Annie', 'Lucille', 'Jennifer', 'Richard', 'Melvin', 'Nora', 'Mabel']\n"
     ]
    }
   ],
   "source": [
    "rounds = 3 # Number of rounds of infection\n",
    "game = InfectionGame(3,names)\n",
    "print(game.names)"
   ]
  },
  {
   "cell_type": "markdown",
   "metadata": {},
   "source": [
    "To run the simulation, call the `infect` method of `game`."
   ]
  },
  {
   "cell_type": "code",
   "execution_count": 5,
   "metadata": {
    "collapsed": false
   },
   "outputs": [],
   "source": [
    "game.infect()"
   ]
  },
  {
   "cell_type": "markdown",
   "metadata": {},
   "source": [
    "Once the simulation has been run, we can query the game to see results. \n",
    "\n",
    "We can get the list of people infected..."
   ]
  },
  {
   "cell_type": "code",
   "execution_count": 6,
   "metadata": {
    "collapsed": false
   },
   "outputs": [
    {
     "data": {
      "text/plain": [
       "['Shannon', 'Rachel', 'Ashley', 'Sarah', 'Annie', 'Lucille', 'Nora', 'Mabel']"
      ]
     },
     "execution_count": 6,
     "metadata": {},
     "output_type": "execute_result"
    }
   ],
   "source": [
    "game.infections"
   ]
  },
  {
   "cell_type": "markdown",
   "metadata": {},
   "source": [
    "and those who weren't infected..."
   ]
  },
  {
   "cell_type": "code",
   "execution_count": 7,
   "metadata": {
    "collapsed": false
   },
   "outputs": [
    {
     "data": {
      "text/plain": [
       "['James',\n",
       " 'Ann',\n",
       " 'Margaret',\n",
       " 'Glen',\n",
       " 'Christa',\n",
       " 'Mary',\n",
       " 'Mariam',\n",
       " 'Renee',\n",
       " 'Martha',\n",
       " 'Jennifer',\n",
       " 'Richard',\n",
       " 'Melvin']"
      ]
     },
     "execution_count": 7,
     "metadata": {},
     "output_type": "execute_result"
    }
   ],
   "source": [
    "game.healthy"
   ]
  },
  {
   "cell_type": "markdown",
   "metadata": {},
   "source": [
    "We can ask specifics about a particular person..."
   ]
  },
  {
   "cell_type": "code",
   "execution_count": 16,
   "metadata": {
    "collapsed": false
   },
   "outputs": [
    {
     "data": {
      "text/plain": [
       "False"
      ]
     },
     "execution_count": 16,
     "metadata": {},
     "output_type": "execute_result"
    }
   ],
   "source": [
    "game.James.infected"
   ]
  },
  {
   "cell_type": "code",
   "execution_count": 17,
   "metadata": {
    "collapsed": false
   },
   "outputs": [
    {
     "data": {
      "text/plain": [
       "['Martha', 'Mariam', 'Ann']"
      ]
     },
     "execution_count": 17,
     "metadata": {},
     "output_type": "execute_result"
    }
   ],
   "source": [
    "game.James.contacts"
   ]
  },
  {
   "cell_type": "markdown",
   "metadata": {},
   "source": [
    "Finally, we can see the source of the infection, i.e. patient \"0\""
   ]
  },
  {
   "cell_type": "code",
   "execution_count": 21,
   "metadata": {
    "collapsed": false
   },
   "outputs": [
    {
     "name": "stdout",
     "output_type": "stream",
     "text": [
      "Sarah\n",
      "came in contact with\n",
      "['Ashley', 'Glen', 'Rachel']\n"
     ]
    }
   ],
   "source": [
    "print(game.patient0.name)\n",
    "print(\"came in contact with\")\n",
    "print(game.patient0.contacts)"
   ]
  }
 ],
 "metadata": {
  "kernelspec": {
   "display_name": "Python 2",
   "language": "python",
   "name": "python2"
  },
  "language_info": {
   "codemirror_mode": {
    "name": "ipython",
    "version": 2
   },
   "file_extension": ".py",
   "mimetype": "text/x-python",
   "name": "python",
   "nbconvert_exporter": "python",
   "pygments_lexer": "ipython2",
   "version": "2.7.6"
  }
 },
 "nbformat": 4,
 "nbformat_minor": 0
}

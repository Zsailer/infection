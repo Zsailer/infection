{
 "cells": [
  {
   "cell_type": "markdown",
   "metadata": {},
   "source": [
    "# Infection Game package tutorial\n",
    "\n",
    "This package simulates game made by Andrea Loes, that demonstrates to middle school students the spread and mapping of infections. \n",
    "\n",
    "To begin, we need to add a list of people to play the game. In the `utils` module, we can import a random name generator. "
   ]
  },
  {
   "cell_type": "code",
   "execution_count": 2,
   "metadata": {
    "collapsed": false
   },
   "outputs": [],
   "source": [
    "from infection.utils import random_names"
   ]
  },
  {
   "cell_type": "markdown",
   "metadata": {},
   "source": [
    "We can create a list of names using the above method and passing in a number of names to return."
   ]
  },
  {
   "cell_type": "code",
   "execution_count": 3,
   "metadata": {
    "collapsed": false
   },
   "outputs": [
    {
     "name": "stdout",
     "output_type": "stream",
     "text": [
      "['Christy', 'Sierra', 'Gayla', 'Barry', 'Ed', 'Maria', 'Kim', 'Michelle', 'Charlene', 'Jared', 'Lamar', 'Scott', 'Larry', 'Gussie', 'Daniel', 'Robert', 'Erin', 'Doyle', 'Carolyn', 'Charlie']\n"
     ]
    }
   ],
   "source": [
    "names = random_names(20)\n",
    "print(names)"
   ]
  },
  {
   "cell_type": "markdown",
   "metadata": {},
   "source": [
    "Now, we'll import the game"
   ]
  },
  {
   "cell_type": "code",
   "execution_count": 4,
   "metadata": {
    "collapsed": false
   },
   "outputs": [],
   "source": [
    "from infection.game import InfectionGame"
   ]
  },
  {
   "cell_type": "markdown",
   "metadata": {},
   "source": [
    "Let's create an instance of the game by passing in the names of people to participate."
   ]
  },
  {
   "cell_type": "code",
   "execution_count": 5,
   "metadata": {
    "collapsed": false
   },
   "outputs": [
    {
     "name": "stdout",
     "output_type": "stream",
     "text": [
      "['Christy', 'Sierra', 'Gayla', 'Barry', 'Ed', 'Maria', 'Kim', 'Michelle', 'Charlene', 'Jared', 'Lamar', 'Scott', 'Larry', 'Gussie', 'Daniel', 'Robert', 'Erin', 'Doyle', 'Carolyn', 'Charlie']\n"
     ]
    }
   ],
   "source": [
    "game = InfectionGame(names)\n",
    "print(game.names)"
   ]
  },
  {
   "cell_type": "markdown",
   "metadata": {},
   "source": [
    "To run the simulation, call the `infect` method of `game` and pass in the number of infection rounds."
   ]
  },
  {
   "cell_type": "code",
   "execution_count": 6,
   "metadata": {
    "collapsed": false,
    "scrolled": false
   },
   "outputs": [],
   "source": [
    "rounds = 3 # Number of rounds of infection\n",
    "game.infect(rounds)"
   ]
  },
  {
   "cell_type": "markdown",
   "metadata": {},
   "source": [
    "Once the simulation has been run, we can query the game to see results. \n",
    "\n",
    "We can get the list of people infected..."
   ]
  },
  {
   "cell_type": "code",
   "execution_count": 7,
   "metadata": {
    "collapsed": false
   },
   "outputs": [
    {
     "data": {
      "text/plain": [
       "['Barry', 'Maria', 'Charlene', 'Lamar', 'Daniel', 'Robert', 'Erin', 'Doyle']"
      ]
     },
     "execution_count": 7,
     "metadata": {},
     "output_type": "execute_result"
    }
   ],
   "source": [
    "game.infections"
   ]
  },
  {
   "cell_type": "markdown",
   "metadata": {},
   "source": [
    "and those who weren't infected..."
   ]
  },
  {
   "cell_type": "code",
   "execution_count": 8,
   "metadata": {
    "collapsed": false
   },
   "outputs": [
    {
     "data": {
      "text/plain": [
       "['Christy',\n",
       " 'Sierra',\n",
       " 'Gayla',\n",
       " 'Ed',\n",
       " 'Kim',\n",
       " 'Michelle',\n",
       " 'Jared',\n",
       " 'Scott',\n",
       " 'Larry',\n",
       " 'Gussie',\n",
       " 'Carolyn',\n",
       " 'Charlie']"
      ]
     },
     "execution_count": 8,
     "metadata": {},
     "output_type": "execute_result"
    }
   ],
   "source": [
    "game.healthy"
   ]
  },
  {
   "cell_type": "markdown",
   "metadata": {},
   "source": [
    "We can ask specifics about a particular person..."
   ]
  },
  {
   "cell_type": "code",
   "execution_count": 9,
   "metadata": {
    "collapsed": false
   },
   "outputs": [
    {
     "data": {
      "text/plain": [
       "['Sierra', 'Charlie', 'Michelle']"
      ]
     },
     "execution_count": 9,
     "metadata": {},
     "output_type": "execute_result"
    }
   ],
   "source": [
    "game.Barry.contacts"
   ]
  },
  {
   "cell_type": "code",
   "execution_count": 10,
   "metadata": {
    "collapsed": false
   },
   "outputs": [
    {
     "data": {
      "text/plain": [
       "True"
      ]
     },
     "execution_count": 10,
     "metadata": {},
     "output_type": "execute_result"
    }
   ],
   "source": [
    "game.Barry.infected"
   ]
  },
  {
   "cell_type": "markdown",
   "metadata": {},
   "source": [
    "Finally, we can see the source of the infection, i.e. patient \"0\""
   ]
  },
  {
   "cell_type": "code",
   "execution_count": 11,
   "metadata": {
    "collapsed": false
   },
   "outputs": [
    {
     "name": "stdout",
     "output_type": "stream",
     "text": [
      "Maria\n",
      "came in contact with\n",
      "['Carolyn', 'Kim', 'Daniel']\n"
     ]
    }
   ],
   "source": [
    "print(game.patient0.name)\n",
    "print(\"came in contact with\")\n",
    "print(game.patient0.contacts)"
   ]
  }
 ],
 "metadata": {
  "kernelspec": {
   "display_name": "Python 2",
   "language": "python",
   "name": "python2"
  },
  "language_info": {
   "codemirror_mode": {
    "name": "ipython",
    "version": 2
   },
   "file_extension": ".py",
   "mimetype": "text/x-python",
   "name": "python",
   "nbconvert_exporter": "python",
   "pygments_lexer": "ipython2",
   "version": "2.7.6"
  }
 },
 "nbformat": 4,
 "nbformat_minor": 0
}
